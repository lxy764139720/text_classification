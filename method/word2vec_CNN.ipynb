{
 "cells": [
  {
   "cell_type": "code",
   "execution_count": 1,
   "metadata": {
    "collapsed": true
   },
   "outputs": [],
   "source": [
    "import os\n",
    "import numpy as np"
   ]
  },
  {
   "cell_type": "code",
   "execution_count": 12,
   "outputs": [
    {
     "name": "stdout",
     "output_type": "stream",
     "text": [
      "..\\preprocessing\\健康.txt\n",
      "健康\n",
      "..\\preprocessing\\教育.txt\n",
      "教育\n",
      "..\\preprocessing\\财经.txt\n",
      "财经\n"
     ]
    }
   ],
   "source": [
    "texts = []\n",
    "labels_index = {}\n",
    "labels = []\n",
    "path = '..\\preprocessing'\n",
    "for name in os.listdir(path):\n",
    "    if name.split('.')[-1] == 'txt':\n",
    "\n",
    "        fpath = os.path.join(path, name)\n",
    "        f = open(fpath, encoding='utf-8')\n",
    "        text = [l.split(' ') for l in f.readlines()]\n",
    "        texts.append(text)\n",
    "\n",
    "        class_name = name.split('.')[0]\n",
    "        label = [class_name for l in text]\n",
    "        labels.append(label)\n",
    "\n",
    "        print(fpath)\n",
    "        print(class_name)"
   ],
   "metadata": {
    "collapsed": false,
    "pycharm": {
     "name": "#%%\n"
    }
   }
  }
 ],
 "metadata": {
  "kernelspec": {
   "display_name": "Python 3",
   "language": "python",
   "name": "python3"
  },
  "language_info": {
   "codemirror_mode": {
    "name": "ipython",
    "version": 2
   },
   "file_extension": ".py",
   "mimetype": "text/x-python",
   "name": "python",
   "nbconvert_exporter": "python",
   "pygments_lexer": "ipython2",
   "version": "2.7.6"
  }
 },
 "nbformat": 4,
 "nbformat_minor": 0
}